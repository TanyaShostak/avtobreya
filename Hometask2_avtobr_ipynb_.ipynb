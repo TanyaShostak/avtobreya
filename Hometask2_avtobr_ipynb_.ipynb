{
  "nbformat": 4,
  "nbformat_minor": 0,
  "metadata": {
    "colab": {
      "provenance": []
    },
    "kernelspec": {
      "name": "python3",
      "display_name": "Python 3"
    },
    "language_info": {
      "name": "python"
    }
  },
  "cells": [
    {
      "cell_type": "markdown",
      "source": [
        "Я взяла предложения с сайта https://rus.1sept.ru/view_article.php?id=200901604\n",
        "\n",
        "В статье рассказывается о случаях, в которых тяжело понять, к какой части речи принадлежат слова. Раз человеку тяжело, то и позтеггеру, наверное, тоже будет непросто. В каждом предложении есть неочевидное для разметки слово (какое и почему написано в статье)."
      ],
      "metadata": {
        "id": "1Jw-no7Q0BYV"
      }
    },
    {
      "cell_type": "code",
      "source": [
        "text = 'Перед нами была огромная пропасть. Грибов там можно набрать пропасть. Тьфу ты, пропасть, как надоел! В таком месте легко пропасть. Больной старик прооперирован. Больной прооперирован. К больному подошла сестра. Тяжелый больной, поступивший накануне, прооперирован. Говорим о больном, поступившем накануне. Продукты заморожены. Ответы путаны. Походка грациозна, величественна. Девушка горда и самоуверенна. Сестра воспитана в семье отчима. Наслаждаемся летним вечером. Вернулись вечером. Морозна ночь; все небо ясно. Солнце ясно светило нам в глаза. Ясно было, что раненый не мог жить и что последний час его был уже близок. Прошел мимо. Прошел мимо нас. Мы зажгли сразу три коптилки, и стало относительно светло. Все это я рассказал, чтобы рассеять предрассудок относительно охоты, будто это просто забава. Судно послушно двинулось заданным курсом наперерез волне. Едва вошел, все замолчали. Приют наш мал, зато спокоен. Мал, однако смел. Будем сражаться, пока не победим. Раз обещал, сдержи слово. Пришел, чтобы помочь. Он часто думает о том, что бы такое особенное сделать, чтобы стать героем. Генерал осведомился, не сын ли я Андрея Петровича Гринева. Не стыдно ли тебе так долго мучить меня? Он имел сильные страсти и огненное воображение. Дома и стены помогают. Суженую-ряженую конем не объедешь. Пойдем гулять, а? Он ехал впереди своего войска. Изобретение ценно. Цепь крепко скована. Семь раз отмерь, один – отрежь. Всё тихо, ночь. Но так и быть: простимся дружно, о юность легкая моя! В открытом море – только небо, вода да ветер. Глокая куздра штеко будланула бокра и курдячит бокренка. Один идет прямым путем, другой идет по кругу и ждет возврата в старый дом, ждет прежнюю подругу. Мудрецы и зубные врачи смотрят в корень. И маковой росинки во рту не было.'\n",
        "words = text.split()\n",
        "print (len(words))"
      ],
      "metadata": {
        "colab": {
          "base_uri": "https://localhost:8080/"
        },
        "id": "Q4g_Xj95CmRU",
        "outputId": "57bd4394-c3bd-4a80-d498-ed05e0619135"
      },
      "execution_count": 1,
      "outputs": [
        {
          "output_type": "stream",
          "name": "stdout",
          "text": [
            "269\n"
          ]
        }
      ]
    },
    {
      "cell_type": "markdown",
      "source": [
        "Я взяла за множество тегов пересечение множеств тегов в трёх выбранных позтеггерах, чтобы было удобно сверять с верными данными, не переписывая их каждый раз. Таким образом, были объединены местоимения-прилагательные с прилагательными, все формы глагола, включая причастия и деепричастия, а также не различались сочинительные и подчинительные союзы. У оставшихся категорий разметку взяла как в mystem."
      ],
      "metadata": {
        "id": "vCKMyGWc2byV"
      }
    },
    {
      "cell_type": "code",
      "source": [
        "pos_keys = [] # составляем список правильных тегов, взяв их из файла (в файле слова в начальной форме, так получилось(()\n",
        "f = open('morph_keys_hw2.txt', 'r')\n",
        "for string in f:\n",
        "    if(\"=\" in string):\n",
        "        pos_keys.append(string.split(\"=\")[1].split('\\n')[0])\n",
        "print(pos_keys)"
      ],
      "metadata": {
        "colab": {
          "base_uri": "https://localhost:8080/"
        },
        "id": "SqCrnf7-lg-p",
        "outputId": "bda9b6cf-ff5d-452f-a721-8cdec319c7ce"
      },
      "execution_count": 2,
      "outputs": [
        {
          "output_type": "stream",
          "name": "stdout",
          "text": [
            "['PR', 'SPRO', 'V', 'A', 'S', 'S', 'ADV', 'ADV', 'V', 'ADV', 'INTJ', 'SPRO', 'INTJ', 'PART', 'V', 'PR', 'A', 'S', 'ADV', 'V', 'A', 'S', 'V', 'S', 'V', 'PR', 'S', 'V', 'S', 'A', 'S', 'V', 'ADV', 'V', 'V', 'PR', 'S', 'V', 'ADV', 'S', 'V', 'S', 'A', 'S', 'A', 'A', 'S', 'A', 'CONJ', 'A', 'S', 'V', 'PR', 'S', 'S', 'V', 'A', 'S', 'V', 'ADV', 'A', 'S', 'A', 'S', 'A', 'S', 'ADV', 'V', 'SPRO', 'PR', 'S', 'A', 'V', 'CONJ', 'S', 'PART', 'V', 'V', 'CONJ', 'CONJ', 'A', 'S', 'SPRO', 'V', 'ADV', 'A', 'V', 'ADV', 'V', 'PR', 'SPRO', 'SPRO', 'V', 'ADV', 'NUM', 'S', 'CONJ', 'V', 'ADV', 'ADV', 'A', 'SPRO', 'SPRO', 'V', 'CONJ', 'V', 'S', 'PR', 'S', 'PART', 'SPRO', 'PART', 'S', 'S', 'ADV', 'V', 'V', 'S', 'PR', 'S', 'CONJ', 'V', 'SPRO', 'V', 'S', 'A', 'A', 'CONJ', 'A', 'A', 'CONJ', 'V', 'V', 'V', 'CONJ', 'PART', 'V', 'CONJ', 'V', 'V', 'S', 'V', 'CONJ', 'V', 'SPRO', 'ADV', 'V', 'PR', 'SPRO', 'SPRO', 'PART', 'A', 'A', 'V', 'CONJ', 'V', 'S', 'S', 'V', 'PART', 'S', 'CONJ', 'SPRO', 'S', 'S', 'S', 'PART', 'ADV', 'PART', 'SPRO', 'ADV', 'ADV', 'V', 'SPRO', 'SPRO', 'V', 'A', 'S', 'CONJ', 'A', 'S', 'ADV', 'PART', 'S', 'V', 'S', 'S', 'S', 'PART', 'V', 'V', 'V', 'PART', 'SPRO', 'V', 'PR', 'A', 'S', 'S', 'A', 'S', 'ADV', 'V', 'NUM', 'S', 'V', 'NUM', 'V', 'SPRO', 'A', 'S', 'CONJ', 'ADV', 'CONJ', 'V', 'V', 'ADV', 'INTJ', 'S', 'A', 'A', 'PR', 'A', 'S', 'PART', 'S', 'S', 'CONJ', 'S', 'A', 'S', 'ADV', 'V', 'S', 'CONJ', 'V', 'S', 'A', 'V', 'A', 'S', 'A', 'V', 'PR', 'S', 'CONJ', 'V', 'S', 'PR', 'A', 'S', 'V', 'A', 'S', 'S', 'CONJ', 'A', 'S', 'V', 'PR', 'S', 'PART', 'A', 'S', 'PR', 'S', 'PART', 'V']\n"
          ]
        }
      ]
    },
    {
      "cell_type": "code",
      "source": [
        "!pip install pymystem3"
      ],
      "metadata": {
        "colab": {
          "base_uri": "https://localhost:8080/"
        },
        "id": "QTtQ-bNeVkSD",
        "outputId": "f384a086-0f84-42db-8f70-faa3c8c9acf3"
      },
      "execution_count": 3,
      "outputs": [
        {
          "output_type": "stream",
          "name": "stdout",
          "text": [
            "Requirement already satisfied: pymystem3 in /usr/local/lib/python3.10/dist-packages (0.2.0)\n",
            "Requirement already satisfied: requests in /usr/local/lib/python3.10/dist-packages (from pymystem3) (2.31.0)\n",
            "Requirement already satisfied: charset-normalizer<4,>=2 in /usr/local/lib/python3.10/dist-packages (from requests->pymystem3) (3.3.0)\n",
            "Requirement already satisfied: idna<4,>=2.5 in /usr/local/lib/python3.10/dist-packages (from requests->pymystem3) (3.4)\n",
            "Requirement already satisfied: urllib3<3,>=1.21.1 in /usr/local/lib/python3.10/dist-packages (from requests->pymystem3) (2.0.6)\n",
            "Requirement already satisfied: certifi>=2017.4.17 in /usr/local/lib/python3.10/dist-packages (from requests->pymystem3) (2023.7.22)\n"
          ]
        }
      ]
    },
    {
      "cell_type": "code",
      "source": [
        "from pymystem3 import Mystem\n",
        "m = Mystem()\n",
        "lemmas = m.analyze(text)"
      ],
      "metadata": {
        "colab": {
          "base_uri": "https://localhost:8080/"
        },
        "id": "dGCIvL6UVd-O",
        "outputId": "0da2fa16-76cd-4a15-c377-371a4bb38f00"
      },
      "execution_count": 4,
      "outputs": [
        {
          "output_type": "stream",
          "name": "stderr",
          "text": [
            "Installing mystem to /root/.local/bin/mystem from http://download.cdn.yandex.net/mystem/mystem-3.1-linux-64bit.tar.gz\n"
          ]
        }
      ]
    },
    {
      "cell_type": "code",
      "source": [
        "mystem_ans = [] # прогоняем текст через mystem, создаём список тегов\n",
        "for i in lemmas:\n",
        "    if len(i) > 1:\n",
        "        gram = i['analysis'][0]['gr'].split(',')\n",
        "        gram = gram[0].split('=')\n",
        "        gram = gram[0]\n",
        "        if(gram == 'ANUM'):\n",
        "            gram = 'A'\n",
        "        if(gram == 'ADVPRO'):\n",
        "            gram = 'ADV'\n",
        "        if(gram == 'APRO'):\n",
        "            gram = 'A'\n",
        "        mystem_ans.append(gram)\n",
        "print(mystem_ans)"
      ],
      "metadata": {
        "colab": {
          "base_uri": "https://localhost:8080/"
        },
        "id": "LwZ9jqlBiopE",
        "outputId": "d343b941-a36a-443f-fd17-e0cfd37d10a0"
      },
      "execution_count": 5,
      "outputs": [
        {
          "output_type": "stream",
          "name": "stdout",
          "text": [
            "['PR', 'SPRO', 'V', 'A', 'S', 'S', 'ADV', 'ADV', 'V', 'S', 'INTJ', 'SPRO', 'S', 'CONJ', 'V', 'PR', 'A', 'S', 'ADV', 'S', 'S', 'S', 'V', 'S', 'V', 'PR', 'S', 'V', 'S', 'A', 'S', 'V', 'ADV', 'V', 'V', 'PR', 'A', 'V', 'ADV', 'S', 'V', 'S', 'A', 'S', 'A', 'A', 'S', 'A', 'CONJ', 'A', 'S', 'V', 'PR', 'S', 'S', 'V', 'A', 'S', 'V', 'S', 'A', 'S', 'SPRO', 'S', 'ADV', 'S', 'ADV', 'V', 'SPRO', 'PR', 'S', 'ADV', 'V', 'CONJ', 'S', 'PART', 'V', 'V', 'CONJ', 'CONJ', 'A', 'S', 'A', 'V', 'ADV', 'A', 'V', 'ADV', 'V', 'PR', 'SPRO', 'SPRO', 'V', 'ADV', 'NUM', 'S', 'CONJ', 'V', 'ADV', 'ADV', 'SPRO', 'PART', 'SPRO', 'V', 'CONJ', 'V', 'S', 'PR', 'S', 'CONJ', 'SPRO', 'PART', 'S', 'S', 'ADV', 'V', 'A', 'S', 'ADV', 'S', 'ADV', 'V', 'SPRO', 'V', 'S', 'A', 'A', 'CONJ', 'A', 'A', 'CONJ', 'V', 'V', 'V', 'CONJ', 'PART', 'V', 'S', 'V', 'V', 'S', 'V', 'CONJ', 'V', 'SPRO', 'ADV', 'V', 'PR', 'SPRO', 'CONJ', 'PART', 'A', 'A', 'V', 'CONJ', 'V', 'S', 'S', 'V', 'PART', 'S', 'PART', 'SPRO', 'S', 'S', 'S', 'PART', 'ADV', 'PART', 'SPRO', 'ADV', 'ADV', 'V', 'SPRO', 'SPRO', 'V', 'A', 'S', 'CONJ', 'A', 'S', 'ADV', 'CONJ', 'S', 'V', 'S', 'A', 'S', 'PART', 'V', 'V', 'V', 'PART', 'SPRO', 'V', 'PR', 'A', 'S', 'S', 'A', 'S', 'ADV', 'V', 'NUM', 'S', 'V', 'A', 'V', 'ADV', 'A', 'S', 'CONJ', 'ADV', 'CONJ', 'V', 'V', 'ADV', 'PR', 'S', 'A', 'A', 'PR', 'A', 'S', 'PART', 'S', 'S', 'CONJ', 'S', 'S', 'S', 'ADV', 'S', 'S', 'CONJ', 'V', 'S', 'A', 'V', 'A', 'PR', 'A', 'V', 'PR', 'S', 'CONJ', 'V', 'S', 'PR', 'A', 'S', 'V', 'A', 'S', 'S', 'CONJ', 'A', 'S', 'V', 'PR', 'S', 'CONJ', 'A', 'S', 'PR', 'S', 'PART', 'V']\n"
          ]
        }
      ]
    },
    {
      "cell_type": "code",
      "source": [
        "!pip install ufal.udpipe"
      ],
      "metadata": {
        "colab": {
          "base_uri": "https://localhost:8080/"
        },
        "id": "eq3rLJ8_Fck_",
        "outputId": "f7156189-84bb-4e97-8cbd-bee8a3b0920e"
      },
      "execution_count": 6,
      "outputs": [
        {
          "output_type": "stream",
          "name": "stdout",
          "text": [
            "Collecting ufal.udpipe\n",
            "  Downloading ufal.udpipe-1.3.0.1-cp310-cp310-manylinux_2_17_x86_64.manylinux2014_x86_64.whl (936 kB)\n",
            "\u001b[2K     \u001b[90m━━━━━━━━━━━━━━━━━━━━━━━━━━━━━━━━━━━━━━━\u001b[0m \u001b[32m937.0/937.0 kB\u001b[0m \u001b[31m5.9 MB/s\u001b[0m eta \u001b[36m0:00:00\u001b[0m\n",
            "\u001b[?25hInstalling collected packages: ufal.udpipe\n",
            "Successfully installed ufal.udpipe-1.3.0.1\n"
          ]
        }
      ]
    },
    {
      "cell_type": "code",
      "source": [
        "from ufal.udpipe import Model, Pipeline"
      ],
      "metadata": {
        "id": "BP32HOESJgGi"
      },
      "execution_count": 7,
      "outputs": []
    },
    {
      "cell_type": "code",
      "source": [
        "!wget https://github.com/jwijffels/udpipe.models.ud.2.0/raw/master/inst/udpipe-ud-2.0-170801/russian-ud-2.0-170801.udpipe"
      ],
      "metadata": {
        "colab": {
          "base_uri": "https://localhost:8080/"
        },
        "id": "V_WfS5_xJkc-",
        "outputId": "87dde433-f230-4cf2-8985-9d43cb87d3f0"
      },
      "execution_count": 8,
      "outputs": [
        {
          "output_type": "stream",
          "name": "stdout",
          "text": [
            "--2023-10-07 21:12:45--  https://github.com/jwijffels/udpipe.models.ud.2.0/raw/master/inst/udpipe-ud-2.0-170801/russian-ud-2.0-170801.udpipe\n",
            "Resolving github.com (github.com)... 140.82.112.3\n",
            "Connecting to github.com (github.com)|140.82.112.3|:443... connected.\n",
            "HTTP request sent, awaiting response... 302 Found\n",
            "Location: https://raw.githubusercontent.com/jwijffels/udpipe.models.ud.2.0/master/inst/udpipe-ud-2.0-170801/russian-ud-2.0-170801.udpipe [following]\n",
            "--2023-10-07 21:12:45--  https://raw.githubusercontent.com/jwijffels/udpipe.models.ud.2.0/master/inst/udpipe-ud-2.0-170801/russian-ud-2.0-170801.udpipe\n",
            "Resolving raw.githubusercontent.com (raw.githubusercontent.com)... 185.199.108.133, 185.199.109.133, 185.199.110.133, ...\n",
            "Connecting to raw.githubusercontent.com (raw.githubusercontent.com)|185.199.108.133|:443... connected.\n",
            "HTTP request sent, awaiting response... 200 OK\n",
            "Length: 13265262 (13M) [application/octet-stream]\n",
            "Saving to: ‘russian-ud-2.0-170801.udpipe’\n",
            "\n",
            "russian-ud-2.0-1708 100%[===================>]  12.65M  --.-KB/s    in 0.04s   \n",
            "\n",
            "2023-10-07 21:12:45 (309 MB/s) - ‘russian-ud-2.0-170801.udpipe’ saved [13265262/13265262]\n",
            "\n"
          ]
        }
      ]
    },
    {
      "cell_type": "code",
      "source": [
        "model = Model.load(\"russian-ud-2.0-170801.udpipe\")"
      ],
      "metadata": {
        "id": "VvZM9mAVJodf"
      },
      "execution_count": 9,
      "outputs": []
    },
    {
      "cell_type": "code",
      "source": [
        "pipeline = Pipeline(model, 'generic_tokenizer', '', '', '') # прогоняем текст через udpipe, создаём список тегов\n",
        "udpipe_ans = []\n",
        "parsed = pipeline.process(text)\n",
        "parsed = parsed.split('\\n')\n",
        "for stri in parsed:\n",
        "    if '\\t' in stri:\n",
        "        tag = stri.split('\\t')[3]\n",
        "        if(tag == 'ADJ'):\n",
        "            tag = 'A'\n",
        "        if(tag == 'DET'):\n",
        "            tag = 'A'\n",
        "        if(tag == 'CCONJ'):\n",
        "            tag = 'CONJ'\n",
        "        if(tag == 'SCONJ'):\n",
        "            tag = 'CONJ'\n",
        "        if(tag == 'ADP'):\n",
        "            tag = 'PR'\n",
        "        if(tag == 'NOUN'):\n",
        "            tag = 'S'\n",
        "        if(tag == 'PROPN'):\n",
        "            tag = 'S'\n",
        "        if(tag == 'PRON'):\n",
        "            tag = 'SPRO'\n",
        "        if(tag == 'VERB'):\n",
        "            tag = 'V'\n",
        "        if(tag == 'AUX'):\n",
        "            tag = 'V'\n",
        "        if(tag != 'PUNCT'):\n",
        "            udpipe_ans.append(tag)\n",
        "print(udpipe_ans)"
      ],
      "metadata": {
        "colab": {
          "base_uri": "https://localhost:8080/"
        },
        "id": "ykdbyR5XJtHJ",
        "outputId": "e980f7e9-2e5a-4213-9186-13b9537bc331"
      },
      "execution_count": 10,
      "outputs": [
        {
          "output_type": "stream",
          "name": "stdout",
          "text": [
            "['PR', 'S', 'V', 'A', 'S', 'S', 'ADV', 'V', 'V', 'S', 'S', 'SPRO', 'V', 'CONJ', 'S', 'PR', 'A', 'S', 'ADV', 'V', 'A', 'S', 'V', 'A', 'S', 'PR', 'S', 'V', 'S', 'A', 'S', 'V', 'PR', 'V', 'V', 'PR', 'A', 'A', 'S', 'S', 'V', 'S', 'A', 'PR', 'S', 'A', 'S', 'S', 'CONJ', 'A', 'S', 'V', 'PR', 'S', 'S', 'V', 'A', 'S', 'V', 'S', 'V', 'S', 'SPRO', 'ADV', 'A', 'S', 'S', 'V', 'SPRO', 'PR', 'S', 'ADV', 'V', 'CONJ', 'S', 'PART', 'V', 'V', 'CONJ', 'PR', 'A', 'S', 'SPRO', 'V', 'ADV', 'A', 'V', 'ADV', 'V', 'ADV', 'SPRO', 'SPRO', 'V', 'ADV', 'NUM', 'S', 'CONJ', 'V', 'PR', 'S', 'A', 'SPRO', 'SPRO', 'V', 'CONJ', 'V', 'S', 'PR', 'S', 'PR', 'A', 'PART', 'S', 'ADV', 'ADV', 'V', 'A', 'S', 'PR', 'S', 'ADV', 'V', 'SPRO', 'V', 'S', 'S', 'V', 'PR', 'A', 'S', 'CONJ', 'V', 'S', 'V', 'CONJ', 'PART', 'V', 'S', 'V', 'S', 'S', 'V', 'CONJ', 'V', 'SPRO', 'ADV', 'V', 'PR', 'SPRO', 'CONJ', 'PART', 'A', 'V', 'V', 'CONJ', 'V', 'S', 'S', 'V', 'PART', 'S', 'PART', 'SPRO', 'S', 'S', 'S', 'PART', 'ADV', 'PART', 'SPRO', 'ADV', 'ADV', 'V', 'SPRO', 'SPRO', 'V', 'A', 'S', 'CONJ', 'A', 'S', 'S', 'CONJ', 'S', 'V', 'A', 'A', 'S', 'PART', 'V', 'V', 'V', 'CONJ', 'SPRO', 'V', 'PR', 'A', 'S', 'S', 'ADV', 'S', 'ADV', 'V', 'V', 'S', 'S', 'NUM', 'S', 'A', 'S', 'S', 'CONJ', 'ADV', 'CONJ', 'V', 'V', 'ADV', 'PR', 'S', 'A', 'S', 'PR', 'A', 'S', 'PART', 'S', 'S', 'S', 'S', 'A', 'S', 'ADV', 'V', 'S', 'CONJ', 'S', 'S', 'NUM', 'V', 'A', 'S', 'A', 'S', 'PR', 'S', 'CONJ', 'V', 'S', 'PR', 'A', 'S', 'V', 'A', 'S', 'S', 'CONJ', 'A', 'S', 'V', 'PR', 'S', 'CONJ', 'A', 'S', 'PR', 'S', 'PART', 'V']\n"
          ]
        }
      ]
    },
    {
      "cell_type": "code",
      "source": [
        "!pip install pymorphy3"
      ],
      "metadata": {
        "colab": {
          "base_uri": "https://localhost:8080/"
        },
        "id": "Hkejb1tmqa4M",
        "outputId": "9824ddae-4192-4a0c-e691-3971e023ade6"
      },
      "execution_count": 11,
      "outputs": [
        {
          "output_type": "stream",
          "name": "stdout",
          "text": [
            "Collecting pymorphy3\n",
            "  Downloading pymorphy3-1.2.1-py3-none-any.whl (55 kB)\n",
            "\u001b[2K     \u001b[90m━━━━━━━━━━━━━━━━━━━━━━━━━━━━━━━━━━━━━━━\u001b[0m \u001b[32m55.4/55.4 kB\u001b[0m \u001b[31m447.4 kB/s\u001b[0m eta \u001b[36m0:00:00\u001b[0m\n",
            "\u001b[?25hCollecting dawg-python>=0.7.1 (from pymorphy3)\n",
            "  Downloading DAWG_Python-0.7.2-py2.py3-none-any.whl (11 kB)\n",
            "Collecting docopt-ng>=0.6 (from pymorphy3)\n",
            "  Downloading docopt_ng-0.9.0-py3-none-any.whl (16 kB)\n",
            "Collecting pymorphy3-dicts-ru (from pymorphy3)\n",
            "  Downloading pymorphy3_dicts_ru-2.4.417150.4580142-py2.py3-none-any.whl (8.4 MB)\n",
            "\u001b[2K     \u001b[90m━━━━━━━━━━━━━━━━━━━━━━━━━━━━━━━━━━━━━━━━\u001b[0m \u001b[32m8.4/8.4 MB\u001b[0m \u001b[31m26.6 MB/s\u001b[0m eta \u001b[36m0:00:00\u001b[0m\n",
            "\u001b[?25hInstalling collected packages: pymorphy3-dicts-ru, dawg-python, docopt-ng, pymorphy3\n",
            "Successfully installed dawg-python-0.7.2 docopt-ng-0.9.0 pymorphy3-1.2.1 pymorphy3-dicts-ru-2.4.417150.4580142\n"
          ]
        }
      ]
    },
    {
      "cell_type": "code",
      "source": [
        "from pymorphy3 import MorphAnalyzer\n",
        "m = MorphAnalyzer()\n",
        "import re"
      ],
      "metadata": {
        "id": "l7KecndvqWzI"
      },
      "execution_count": 12,
      "outputs": []
    },
    {
      "cell_type": "code",
      "source": [
        "pymorphy_ans = [] # прогоняем текст через pymorphy, создаём список тегов\n",
        "words = re.split(\" |-\", text)\n",
        "for wrd in words:\n",
        "    if wrd[-1] in \".,?!:–;\":\n",
        "        wrd = wrd[:-1]\n",
        "    if wrd != '':\n",
        "        tagg = str(m.parse(wrd)[0].tag)[0:4]\n",
        "        if(tagg == 'ADJF'):\n",
        "            tagg = 'A'\n",
        "        if(tagg == 'ADJS'):\n",
        "            tagg = 'A'\n",
        "        if(tagg == 'COMP'):\n",
        "            tagg = 'A'\n",
        "        if(tagg == 'ADVB'):\n",
        "            tagg = 'ADV'\n",
        "        if(tagg == 'PRED'):\n",
        "            tagg = 'ADV'\n",
        "        if(tagg == 'NUMR'):\n",
        "            tagg = 'NUM'\n",
        "        if(tagg == 'PRCL'):\n",
        "            tagg = 'PART'\n",
        "        if(tagg == 'PREP'):\n",
        "            tagg = 'PR'\n",
        "        if(tagg == 'NOUN'):\n",
        "            tagg = 'S'\n",
        "        if(tagg == 'NPRO'):\n",
        "            tagg = 'SPRO'\n",
        "        if(tagg == 'INFN'):\n",
        "            tagg = 'V'\n",
        "        if(tagg == 'VERB'):\n",
        "            tagg = 'V'\n",
        "        if(tagg == 'PRTF'):\n",
        "            tagg = 'V'\n",
        "        if(tagg == 'PRTS'):\n",
        "            tagg = 'V'\n",
        "        if(tagg == 'GRND'):\n",
        "            tagg = 'V'\n",
        "        pymorphy_ans.append(tagg)\n",
        "print(pymorphy_ans)"
      ],
      "metadata": {
        "colab": {
          "base_uri": "https://localhost:8080/"
        },
        "id": "96C7ijqAq0p6",
        "outputId": "95f045ab-eec9-42f5-aade-36510da753b2"
      },
      "execution_count": 13,
      "outputs": [
        {
          "output_type": "stream",
          "name": "stdout",
          "text": [
            "['PR', 'SPRO', 'V', 'A', 'S', 'S', 'ADV', 'ADV', 'V', 'S', 'INTJ', 'SPRO', 'S', 'CONJ', 'V', 'PR', 'A', 'S', 'ADV', 'S', 'A', 'S', 'V', 'A', 'V', 'PR', 'A', 'V', 'S', 'A', 'A', 'V', 'ADV', 'V', 'V', 'PR', 'A', 'V', 'ADV', 'S', 'V', 'S', 'A', 'S', 'A', 'A', 'S', 'A', 'CONJ', 'A', 'S', 'V', 'PR', 'S', 'S', 'V', 'A', 'ADV', 'V', 'ADV', 'A', 'S', 'PART', 'S', 'ADV', 'S', 'ADV', 'S', 'SPRO', 'PR', 'S', 'ADV', 'V', 'CONJ', 'A', 'PART', 'V', 'V', 'CONJ', 'CONJ', 'A', 'S', 'SPRO', 'V', 'ADV', 'A', 'V', 'PR', 'V', 'PR', 'SPRO', 'SPRO', 'V', 'ADV', 'NUM', 'S', 'CONJ', 'V', 'PR', 'ADV', 'PART', 'PART', 'SPRO', 'V', 'CONJ', 'V', 'S', 'PR', 'S', 'CONJ', 'PART', 'PART', 'S', 'S', 'ADV', 'V', 'V', 'S', 'ADV', 'S', 'ADV', 'V', 'PART', 'V', 'S', 'A', 'A', 'CONJ', 'A', 'A', 'CONJ', 'V', 'V', 'V', 'ADV', 'PART', 'V', 'S', 'V', 'V', 'S', 'V', 'CONJ', 'V', 'SPRO', 'ADV', 'V', 'PR', 'A', 'CONJ', 'PART', 'A', 'A', 'V', 'CONJ', 'V', 'S', 'S', 'V', 'PART', 'S', 'CONJ', 'SPRO', 'S', 'S', 'S', 'PART', 'ADV', 'CONJ', 'SPRO', 'CONJ', 'ADV', 'V', 'SPRO', 'SPRO', 'V', 'A', 'S', 'CONJ', 'A', 'S', 'S', 'CONJ', 'S', 'V', 'A', 'A', 'S', 'PART', 'V', 'V', 'V', 'CONJ', 'SPRO', 'V', 'ADV', 'A', 'S', 'S', 'A', 'S', 'ADV', 'V', 'NUM', 'S', 'V', 'A', 'V', 'PART', 'ADV', 'S', 'CONJ', 'CONJ', 'CONJ', 'V', 'V', 'ADV', 'PR', 'S', 'A', 'A', 'PR', 'A', 'S', 'ADV', 'S', 'S', 'PART', 'S', 'V', 'S', 'A', 'S', 'S', 'CONJ', 'V', 'S', 'A', 'V', 'A', 'PR', 'A', 'V', 'PR', 'S', 'CONJ', 'V', 'S', 'PR', 'A', 'S', 'V', 'A', 'S', 'S', 'CONJ', 'A', 'S', 'V', 'PR', 'S', 'CONJ', 'A', 'S', 'PR', 'S', 'PART', 'V']\n"
          ]
        }
      ]
    },
    {
      "cell_type": "code",
      "source": [
        "from sklearn.metrics import accuracy_score # считаем accuracy\n",
        "\n",
        "print(accuracy_score(pos_keys, mystem_ans))\n",
        "print(accuracy_score(pos_keys, udpipe_ans))\n",
        "print(accuracy_score(pos_keys, pymorphy_ans))\n"
      ],
      "metadata": {
        "colab": {
          "base_uri": "https://localhost:8080/"
        },
        "id": "wMslMXB9vdNX",
        "outputId": "d1e2c454-717e-418c-ae73-fb1ed398eca2"
      },
      "execution_count": 14,
      "outputs": [
        {
          "output_type": "stream",
          "name": "stdout",
          "text": [
            "0.8917910447761194\n",
            "0.7798507462686567\n",
            "0.8246268656716418\n"
          ]
        }
      ]
    },
    {
      "cell_type": "markdown",
      "source": [
        "Лучшим получился mystem.\n",
        "\n",
        "Так как в дз1 я рассматривала отзывы на отели, полезными будут такие n-граммы:\n",
        "\n",
        "не + прилагательное - обычно в таких контсрукциях прилагательные позитивно окрашены (не новый, не удобный), хочется отличать их от просто употреблений новый, удобный\n",
        "\n",
        "не + глагол - тоже хочется разделять такие уптребления\n",
        "\n",
        "предлог + существительное - чтобы отличать случаи типа без бассейна (это плохо) и с бассейном (это хорошо)\n"
      ],
      "metadata": {
        "id": "Y8b-FMgg2VOS"
      }
    },
    {
      "cell_type": "code",
      "source": [
        "from pymystem3 import Mystem\n",
        "m = Mystem()"
      ],
      "metadata": {
        "id": "pFkYAAbc8uJX"
      },
      "execution_count": 15,
      "outputs": []
    },
    {
      "cell_type": "code",
      "source": [
        "def chunker_pos(text, pos1, pos2):\n",
        "    lemmas = m.analyze(text)\n",
        "    lemmas_list = []\n",
        "    for i in lemmas:\n",
        "        if len(i) > 1:\n",
        "            wrd1 = i['text']\n",
        "            gram = i['analysis'][0]['gr'].split(',')\n",
        "            gram = gram[0].split('=')\n",
        "            gram = gram[0]\n",
        "            if(gram == 'ANUM'):\n",
        "               gram = 'A'\n",
        "            if(gram == 'ADVPRO'):\n",
        "                gram = 'ADV'\n",
        "            if(gram == 'APRO'):\n",
        "                gram = 'A'\n",
        "            lemmas_list.append((gram, wrd1))\n",
        "    for i in range(len(lemmas_list)):\n",
        "        if(i>0):\n",
        "            if(lemmas_list[i-1][0] == pos1 and lemmas_list[i][0] == pos2):\n",
        "                print(lemmas_list[i-1][1], lemmas_list[i][1])"
      ],
      "metadata": {
        "id": "SlNLwjgc6Ppa"
      },
      "execution_count": 16,
      "outputs": []
    },
    {
      "cell_type": "code",
      "source": [
        "chunker_pos(text, 'PR', 'S')"
      ],
      "metadata": {
        "colab": {
          "base_uri": "https://localhost:8080/"
        },
        "id": "3Tduaj7c8e1w",
        "outputId": "1a01f036-838f-415a-b389-49d50ab51f06"
      },
      "execution_count": 17,
      "outputs": [
        {
          "output_type": "stream",
          "name": "stdout",
          "text": [
            "К больному\n",
            "в семье\n",
            "в глаза\n",
            "относительно охоты\n",
            "о юность\n",
            "по кругу\n",
            "в корень\n",
            "во рту\n"
          ]
        }
      ]
    },
    {
      "cell_type": "code",
      "source": [
        "def chunker_word_pos(text, word, pos):\n",
        "    lemmas = m.analyze(text)\n",
        "    lemmas_list = []\n",
        "    for i in lemmas:\n",
        "        if len(i) > 1:\n",
        "            wrd1 = i['text']\n",
        "            gram = i['analysis'][0]['gr'].split(',')\n",
        "            gram = gram[0].split('=')\n",
        "            gram = gram[0]\n",
        "            if(gram == 'ANUM'):\n",
        "               gram = 'A'\n",
        "            if(gram == 'ADVPRO'):\n",
        "                gram = 'ADV'\n",
        "            if(gram == 'APRO'):\n",
        "                gram = 'A'\n",
        "            lemmas_list.append((gram, wrd1))\n",
        "    for i in range(len(lemmas_list)):\n",
        "        if(i>0):\n",
        "            if(lemmas_list[i-1][1] == word and lemmas_list[i][0] == pos):\n",
        "                print(lemmas_list[i-1][1], lemmas_list[i][1])"
      ],
      "metadata": {
        "id": "AYlbshVQ-B4s"
      },
      "execution_count": 18,
      "outputs": []
    },
    {
      "cell_type": "code",
      "source": [
        "chunker_word_pos(text, 'не', 'V')"
      ],
      "metadata": {
        "colab": {
          "base_uri": "https://localhost:8080/"
        },
        "id": "tcGTo8rk-Kkt",
        "outputId": "944b9375-5cf6-4405-f408-130002389a2c"
      },
      "execution_count": 19,
      "outputs": [
        {
          "output_type": "stream",
          "name": "stdout",
          "text": [
            "не мог\n",
            "не победим\n",
            "не объедешь\n",
            "не было\n"
          ]
        }
      ]
    },
    {
      "cell_type": "code",
      "source": [
        "chunker_word_pos(text, 'не', 'A')"
      ],
      "metadata": {
        "id": "uLM7UPeW-XoJ"
      },
      "execution_count": 20,
      "outputs": []
    }
  ]
}